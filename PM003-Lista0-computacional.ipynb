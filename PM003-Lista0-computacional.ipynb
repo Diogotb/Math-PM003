{
 "cells": [
  {
   "cell_type": "code",
   "execution_count": 2,
   "metadata": {},
   "outputs": [],
   "source": [
    "%matplotlib inline\n",
    "import matplotlib.pyplot as plt\n",
    "import numpy as np\n",
    "from mpl_toolkits.mplot3d import Axes3D\n",
    "from matplotlib import cm \n",
    "import math\n",
    "from math import e\n",
    "from sympy import *\n",
    "x, y, z = symbols('x y z')\n",
    "a, b = symbols('a b')\n",
    "init_printing(use_unicode=True)"
   ]
  },
  {
   "cell_type": "code",
   "execution_count": 3,
   "metadata": {
    "scrolled": true
   },
   "outputs": [
    {
     "data": {
      "image/png": "[encoded data removed]",
      "text/latex": [
       "$\\displaystyle 2 x$"
      ],
      "text/plain": [
       "2⋅x"
      ]
     },
     "execution_count": 3,
     "metadata": {},
     "output_type": "execute_result"
    }
   ],
   "source": [
    "# ex1.a - x²+y²=0 dy/dx\n",
    "diff(x**2 + y**2, x)"
   ]
  },
  {
   "cell_type": "code",
   "execution_count": 4,
   "metadata": {},
   "outputs": [
    {
     "data": {
      "image/png": "[encoded data removed]",
      "text/latex": [
       "$\\displaystyle 2 y$"
      ],
      "text/plain": [
       "2⋅y"
      ]
     },
     "execution_count": 4,
     "metadata": {},
     "output_type": "execute_result"
    }
   ],
   "source": [
    "# ex1.a - x²+y²=0 dx/dy\n",
    "diff(x**2 + y**2, y)"
   ]
  },
  {
   "cell_type": "code",
   "execution_count": 5,
   "metadata": {},
   "outputs": [
    {
     "data": {
      "image/png": "[encoded data removed]",
      "text/latex": [
       "$\\displaystyle 2$"
      ],
      "text/plain": [
       "2"
      ]
     },
     "execution_count": 5,
     "metadata": {},
     "output_type": "execute_result"
    }
   ],
   "source": [
    "# ex1.a - x²+y²=0 dy/dxdx\n",
    "diff(diff(x**2 + y**2, x))"
   ]
  },
  {
   "cell_type": "code",
   "execution_count": 6,
   "metadata": {},
   "outputs": [
    {
     "data": {
      "image/png": "[encoded data removed]",
      "text/latex": [
       "$\\displaystyle 2$"
      ],
      "text/plain": [
       "2"
      ]
     },
     "execution_count": 6,
     "metadata": {},
     "output_type": "execute_result"
    }
   ],
   "source": [
    "# ex1.a - x²+y²=0 dy/dxdx\n",
    "diff(diff(x**2 + y**2, y))"
   ]
  },
  {
   "cell_type": "code",
   "execution_count": 7,
   "metadata": {},
   "outputs": [
    {
     "data": {
      "image/png": "[encoded data removed]",
      "text/latex": [
       "$\\displaystyle 2.0 \\cdot 2.71828182845905^{x^{2}} x \\sin{\\left(y \\right)} + 3 x^{2} y$"
      ],
      "text/plain": [
       "                    ⎛ 2⎞                  \n",
       "                    ⎝x ⎠               2  \n",
       "2.0⋅2.71828182845905    ⋅x⋅sin(y) + 3⋅x ⋅y"
      ]
     },
     "execution_count": 7,
     "metadata": {},
     "output_type": "execute_result"
    }
   ],
   "source": [
    "# ex1.b - x³y + e^(x²)sen(y) dy/dx\n",
    "diff(y*x**3 + sin(y)*e**(x**2), x)"
   ]
  },
  {
   "cell_type": "code",
   "execution_count": 8,
   "metadata": {},
   "outputs": [
    {
     "data": {
      "image/png": "[encoded data removed]",
      "text/latex": [
       "$\\displaystyle 2.71828182845905^{x^{2}} \\cos{\\left(y \\right)} + x^{3}$"
      ],
      "text/plain": [
       "                ⎛ 2⎞            \n",
       "                ⎝x ⎠           3\n",
       "2.71828182845905    ⋅cos(y) + x "
      ]
     },
     "execution_count": 8,
     "metadata": {},
     "output_type": "execute_result"
    }
   ],
   "source": [
    "# ex1.b - x³y + e^(x²)sen(y) dx/dy\n",
    "diff(y*x**3 + sin(y)*e**(x**2), y)"
   ]
  },
  {
   "cell_type": "code",
   "execution_count": 9,
   "metadata": {},
   "outputs": [
    {
     "data": {
      "image/png": "[encoded data removed]",
      "text/latex": [
       "$\\displaystyle - 2.0 \\cdot 2.71828182845905^{- b x^{2}} a b x \\cos{\\left(2.71828182845905^{- b x^{2}} \\right)}$"
      ],
      "text/plain": [
       "                         2          ⎛                    2⎞\n",
       "                     -b⋅x           ⎜                -b⋅x ⎟\n",
       "-2.0⋅2.71828182845905     ⋅a⋅b⋅x⋅cos⎝2.71828182845905     ⎠"
      ]
     },
     "execution_count": 9,
     "metadata": {},
     "output_type": "execute_result"
    }
   ],
   "source": [
    "# ex1.c - y = asen(e^-bx²) com a e b constantes dy/dx\n",
    "diff(a*sin(e**(-b*(x**2))), x)"
   ]
  },
  {
   "cell_type": "code",
   "execution_count": 13,
   "metadata": {},
   "outputs": [
    {
     "data": {
      "image/png": "[encoded data removed]",
      "text/latex": [
       "$\\displaystyle \\frac{13}{8}$"
      ],
      "text/plain": [
       "13/8"
      ]
     },
     "execution_count": 13,
     "metadata": {},
     "output_type": "execute_result"
    }
   ],
   "source": [
    "# ex1.d - y = sqrt(x+sqrt(x+sqrt(x))) dy/dx\n",
    "diff(x+(x+(x**1/2)**1/2)**1/2, x)"
   ]
  },
  {
   "cell_type": "code",
   "execution_count": 20,
   "metadata": {},
   "outputs": [
    {
     "data": {
      "image/png": "[encoded data removed]",
      "text/latex": [
       "$\\displaystyle \\frac{\\frac{\\frac{1}{2} + \\frac{1}{4 \\sqrt{x}}}{2 \\sqrt{\\sqrt{x} + x}} + \\frac{1}{2}}{\\sqrt{x + \\sqrt{\\sqrt{x} + x}}}$"
      ],
      "text/plain": [
       "    1    1         \n",
       "    ─ + ────       \n",
       "    2   4⋅√x     1 \n",
       "  ──────────── + ─ \n",
       "      ________   2 \n",
       "  2⋅╲╱ √x + x      \n",
       "───────────────────\n",
       "   ________________\n",
       "  ╱       ________ \n",
       "╲╱  x + ╲╱ √x + x  "
      ]
     },
     "execution_count": 20,
     "metadata": {},
     "output_type": "execute_result"
    }
   ],
   "source": [
    "# ex1.d - y = sqrt(x+sqrt(x+sqrt(x))) dy/dx\n",
    "diff(sqrt(x+sqrt(x+sqrt(x))), x)"
   ]
  },
  {
   "cell_type": "code",
   "execution_count": 14,
   "metadata": {},
   "outputs": [
    {
     "data": {
      "image/png": "[encoded data removed]",
      "text/latex": [
       "$\\displaystyle a^{x} \\log{\\left(a \\right)}$"
      ],
      "text/plain": [
       " x       \n",
       "a ⋅log(a)"
      ]
     },
     "execution_count": 14,
     "metadata": {},
     "output_type": "execute_result"
    }
   ],
   "source": [
    "# ex1.e - y = a**x dy/dx\n",
    "diff(a**x, x)"
   ]
  },
  {
   "cell_type": "code",
   "execution_count": 24,
   "metadata": {},
   "outputs": [
    {
     "data": {
      "image/png": "[encoded data removed]",
      "text/latex": [
       "$\\displaystyle x^{2} \\sin{\\left(x \\right)} + 2 x \\cos{\\left(x \\right)} - 2 \\sin{\\left(x \\right)}$"
      ],
      "text/plain": [
       " 2                               \n",
       "x ⋅sin(x) + 2⋅x⋅cos(x) - 2⋅sin(x)"
      ]
     },
     "execution_count": 24,
     "metadata": {},
     "output_type": "execute_result"
    }
   ],
   "source": [
    "# ex5.a integral => x²cos(x) dx-\n",
    "integrate((x**2)*cos(x), x)"
   ]
  },
  {
   "cell_type": "code",
   "execution_count": 23,
   "metadata": {
    "scrolled": false
   },
   "outputs": [
    {
     "data": {
      "image/png": "[encoded data removed]",
      "text/latex": [
       "$\\displaystyle - x^{2} \\cos{\\left(x \\right)} + 2 x \\sin{\\left(x \\right)} + 2 \\cos{\\left(x \\right)}$"
      ],
      "text/plain": [
       "   2                               \n",
       "- x ⋅cos(x) + 2⋅x⋅sin(x) + 2⋅cos(x)"
      ]
     },
     "execution_count": 23,
     "metadata": {},
     "output_type": "execute_result"
    }
   ],
   "source": [
    "# ex5.b integral => x²sen(x) dx-\n",
    "integrate((x**2)*sin(x), x)"
   ]
  },
  {
   "cell_type": "code",
   "execution_count": 25,
   "metadata": {},
   "outputs": [
    {
     "data": {
      "image/png": "[encoded data removed]",
      "text/latex": [
       "$\\displaystyle \\frac{x^{2} \\sqrt{x^{2} + 1}}{3} + \\frac{\\sqrt{x^{2} + 1}}{3}$"
      ],
      "text/plain": [
       "      ________      ________\n",
       " 2   ╱  2          ╱  2     \n",
       "x ⋅╲╱  x  + 1    ╲╱  x  + 1 \n",
       "────────────── + ───────────\n",
       "      3               3     "
      ]
     },
     "execution_count": 25,
     "metadata": {},
     "output_type": "execute_result"
    }
   ],
   "source": [
    "# ex5.c integral => x*sqrt(1+x**2) dx-\n",
    "integrate(x*sqrt(1+x**2), x)"
   ]
  },
  {
   "cell_type": "code",
   "execution_count": 29,
   "metadata": {},
   "outputs": [
    {
     "data": {
      "image/png": "[encoded data removed]",
      "text/latex": [
       "$\\displaystyle \\frac{\\log{\\left(x \\right)}^{6}}{6} + \\log{\\left(x \\right)}^{5} + \\frac{5 \\log{\\left(x \\right)}^{4}}{2} + \\frac{10 \\log{\\left(x \\right)}^{3}}{3} + \\frac{5 \\log{\\left(x \\right)}^{2}}{2} + \\log{\\left(x \\right)}$"
      ],
      "text/plain": [
       "   6                     4            3           2            \n",
       "log (x)      5      5⋅log (x)   10⋅log (x)   5⋅log (x)         \n",
       "─────── + log (x) + ───────── + ────────── + ───────── + log(x)\n",
       "   6                    2           3            2             "
      ]
     },
     "execution_count": 29,
     "metadata": {},
     "output_type": "execute_result"
    }
   ],
   "source": [
    "# ex5.d integral => (1/x)*(1+log(x))**5 dx-\n",
    "integrate(((1+ln(x))**5)/x, x)"
   ]
  },
  {
   "cell_type": "code",
   "execution_count": 32,
   "metadata": {
    "scrolled": true
   },
   "outputs": [
    {
     "data": {
      "image/png": "[encoded data removed]",
      "text/latex": [
       "$\\displaystyle \\frac{\\cos^{5}{\\left(x \\right)}}{5} - \\frac{\\cos^{3}{\\left(x \\right)}}{3}$"
      ],
      "text/plain": [
       "   5         3   \n",
       "cos (x)   cos (x)\n",
       "─────── - ───────\n",
       "   5         3   "
      ]
     },
     "execution_count": 32,
     "metadata": {},
     "output_type": "execute_result"
    }
   ],
   "source": [
    "# ex5.e integral => sen³(x)cos²(x) dx-\n",
    "integrate((sin(x)**3)*(cos(x)**2), x)"
   ]
  },
  {
   "cell_type": "code",
   "execution_count": 33,
   "metadata": {},
   "outputs": [
    {
     "data": {
      "image/png": "[encoded data removed]",
      "text/latex": [
       "$\\displaystyle x \\cos^{5}{\\left(5 \\right)}$"
      ],
      "text/plain": [
       "     5   \n",
       "x⋅cos (5)"
      ]
     },
     "execution_count": 33,
     "metadata": {},
     "output_type": "execute_result"
    }
   ],
   "source": [
    "# ex5.e integral => cos^5(x) dx-\n",
    "integrate(cos(5)**5, x)"
   ]
  },
  {
   "cell_type": "code",
   "execution_count": 35,
   "metadata": {},
   "outputs": [
    {
     "data": {
      "image/png": "[encoded data removed]",
      "text/latex": [
       "$\\displaystyle 0.153846153846154 \\cdot 2.71828182845905^{2 x} \\sin{\\left(3 x \\right)} - 0.230769230769231 \\cdot 2.71828182845905^{2 x} \\cos{\\left(3 x \\right)}$"
      ],
      "text/plain": [
       "                                  2⋅x                                         \n",
       "0.153846153846154⋅2.71828182845905   ⋅sin(3⋅x) - 0.230769230769231⋅2.718281828\n",
       "\n",
       "     2⋅x         \n",
       "45905   ⋅cos(3⋅x)"
      ]
     },
     "execution_count": 35,
     "metadata": {},
     "output_type": "execute_result"
    }
   ],
   "source": [
    "# ex5.e integral => e**(2*x))*sen(3*x)) dx-\n",
    "integrate((e**(2*x))*sin(3*x), x)"
   ]
  },
  {
   "cell_type": "code",
   "execution_count": null,
   "metadata": {},
   "outputs": [],
   "source": []
  }
 ],
 "metadata": {
  "kernelspec": {
   "display_name": "Python 3",
   "language": "python",
   "name": "python3"
  },
  "language_info": {
   "codemirror_mode": {
    "name": "ipython",
    "version": 3
   },
   "file_extension": ".py",
   "mimetype": "text/x-python",
   "name": "python",
   "nbconvert_exporter": "python",
   "pygments_lexer": "ipython3",
   "version": "3.8.3"
  }
 },
 "nbformat": 4,
 "nbformat_minor": 4
}
