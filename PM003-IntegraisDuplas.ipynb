{
 "cells": [
  {
   "cell_type": "code",
   "execution_count": 2,
   "metadata": {},
   "outputs": [],
   "source": [
    "import numpy as np\n",
    "import math\n",
    "from math import pi\n",
    "from math import sqrt\n",
    "from sympy import *\n",
    "x, y, r = symbols('x y r')\n",
    "theta = symbols('theta')\n",
    "init_printing(use_unicode=True)"
   ]
  },
  {
   "cell_type": "code",
   "execution_count": 16,
   "metadata": {
    "scrolled": true
   },
   "outputs": [
    {
     "name": "stdout",
     "output_type": "stream",
     "text": [
      "Digite a f(x,y): x*x**2\n",
      "Digite o intervalo da integração em x1: 0\n",
      "Digite o intervalo da integração em x2: cos(3*y)\n",
      "digite o intervalo da integração em y1: -pi/2\n",
      "digite o intervalo da integração em y2: pi/2\n",
      "integral em x:  x**4/4\n",
      "subs x1:  0\n",
      "subs x2:  cos(3*y)**4/4\n",
      "intervalo m em x:  cos(3*y)**4/4\n",
      "integral em y: 3*y/32 + sin(3*y)*cos(3*y)**3/48 + sin(3*y)*cos(3*y)/32\n",
      "subs y1:  -3*pi/64\n",
      "subsy2:  3*pi/64\n",
      "Valor Final: 3*pi/32\n"
     ]
    }
   ],
   "source": [
    "# resolução de integrais duplas x->y\n",
    "# calculo do x1,x2, y1 e y2\n",
    "f = input('Digite a f(x,y): ')\n",
    "m1 = input('Digite o intervalo da integração em x1: ')\n",
    "m2 = input('Digite o intervalo da integração em x2: ')\n",
    "n1 = input('digite o intervalo da integração em y1: ')\n",
    "n2 = input('digite o intervalo da integração em y2: ')\n",
    "\n",
    "inif = integrate(f,x)\n",
    "print('integral em x: ',inif)\n",
    "inif1 = inif.subs(x,m1)\n",
    "inif2 = inif.subs(x,m2)\n",
    "print('subs x1: ',inif1)\n",
    "print('subs x2: ',inif2)\n",
    "inif = inif2-inif1\n",
    "inif = simplify(inif)\n",
    "print('intervalo m em x: ',inif)\n",
    "fimf = integrate(inif,y)\n",
    "print('integral em y:',fimf)\n",
    "fimf1 = fimf.subs(y,n1)\n",
    "fimf2 = fimf.subs(y,n2)\n",
    "print('subs y1: ',fimf1)\n",
    "print('subsy2: ',fimf2)\n",
    "Vcalc= fimf2-fimf1\n",
    "print('Valor Final:',Vcalc)\n"
   ]
  },
  {
   "cell_type": "code",
   "execution_count": 8,
   "metadata": {
    "scrolled": true
   },
   "outputs": [
    {
     "name": "stdout",
     "output_type": "stream",
     "text": [
      "Digite a f(x,y): x-cos(3*y)\n",
      "Digite o intervalo da integração em x1: 0\n",
      "Digite o intervalo da integração em x2: cos(y)\n",
      "digite o intervalo da integração em y1: -pi/2\n",
      "digite o intervalo da integração em y2: pi/2\n",
      "integral em y:  x*y - sin(3*y)/3\n",
      "subs y1:  -pi*x/2 - 1/3\n",
      "subs y2:  pi*x/2 + 1/3\n",
      "intervalo n em y:  pi*x + 2/3\n",
      "integral em x: pi*x**2/2 + 2*x/3\n",
      "subs x1:  0\n",
      "subs x2:  pi*cos(y)**2/2 + 2*cos(y)/3\n",
      "Valor Final: pi*cos(y)**2/2 + 2*cos(y)/3\n"
     ]
    }
   ],
   "source": [
    "# resolução de integrais duplas y->x\n",
    "#calculo do y1,y2,x1 e x2\n",
    "f = input('Digite a f(x,y): ')\n",
    "m1 = input('Digite o intervalo da integração em x1: ')\n",
    "m2 = input('Digite o intervalo da integração em x2: ')\n",
    "n1 = input('digite o intervalo da integração em y1: ')\n",
    "n2 = input('digite o intervalo da integração em y2: ')\n",
    "\n",
    "inif = integrate(f,y)\n",
    "print('integral em y: ',inif)\n",
    "inif1 = inif.subs(y,n1)\n",
    "inif2 = inif.subs(y,n2)\n",
    "print('subs y1: ',inif1)\n",
    "print('subs y2: ',inif2)\n",
    "inif = inif2-inif1\n",
    "inif = simplify(inif)\n",
    "print('intervalo n em y: ',inif)\n",
    "fimf = integrate(inif,x)\n",
    "print('integral em x:',fcimf)\n",
    "fimf1 = fimf.subs(x,m1)\n",
    "fimf2 = fimf.subs(x,m2)\n",
    "print('subs x1: ',fimf1)\n",
    "print('subs x2: ',fimf2)\n",
    "Vcalc= fimf2-fimf1\n",
    "print('Valor Final:',Vcalc)"
   ]
  },
  {
   "cell_type": "code",
   "execution_count": 6,
   "metadata": {
    "scrolled": true
   },
   "outputs": [
    {
     "name": "stdout",
     "output_type": "stream",
     "text": [
      "Digite a f(x,y): r\n",
      "Digite o intervalo da integração em x1: 0\n",
      "Digite o intervalo da integração em x2: 2*cos(3*theta)\n",
      "digite o intervalo da integração em y1: -pi/3\n",
      "digite o intervalo da integração em y2: pi/3\n",
      "f cord polares:  r\n",
      "integral em r:  r**2/2\n",
      "subs r1:  0\n",
      "subs r2:  2*cos(3*theta)**2\n",
      "intervalo m em r:  2*cos(3*theta)**2\n",
      "integral em theta: theta + sin(3*theta)*cos(3*theta)/3\n",
      "subs y1:  -pi/3\n",
      "subs y2:  pi/3\n",
      "Valor Final: 2*pi/3\n"
     ]
    }
   ],
   "source": [
    "# resolução de integrais duplas x->y\n",
    "# calculo do x1,x2, y1 e y2\n",
    "f = input('Digite a f(x,y): ')\n",
    "m1 = input('Digite o intervalo da integração em x1: ')\n",
    "m2 = input('Digite o intervalo da integração em x2: ')\n",
    "n1 = input('digite o intervalo da integração em y1: ')\n",
    "n2 = input('digite o intervalo da integração em y2: ')\n",
    "print('f cord polares: ',f)\n",
    "inif = integrate(f,r)\n",
    "print('integral em r: ',inif)\n",
    "inif1 = inif.subs(r,m1)\n",
    "inif2 = inif.subs(r,m2)\n",
    "print('subs r1: ',inif1)\n",
    "print('subs r2: ',inif2)\n",
    "inif = inif2-inif1\n",
    "inif = simplify(inif)\n",
    "print('intervalo m em r: ',inif)\n",
    "fimf = integrate(inif,theta)\n",
    "print('integral em theta:',fimf)\n",
    "fimf1 = fimf.subs(theta,n1)\n",
    "fimf2 = fimf.subs(theta,n2)\n",
    "print('subs y1: ',fimf1)\n",
    "print('subs y2: ',fimf2)\n",
    "Vcalc= fimf2-fimf1\n",
    "print('Valor Final:',Vcalc)"
   ]
  },
  {
   "cell_type": "code",
   "execution_count": 5,
   "metadata": {},
   "outputs": [
    {
     "ename": "KeyboardInterrupt",
     "evalue": "Interrupted by user",
     "output_type": "error",
     "traceback": [
      "\u001b[1;31m---------------------------------------------------------------------------\u001b[0m",
      "\u001b[1;31mKeyboardInterrupt\u001b[0m                         Traceback (most recent call last)",
      "\u001b[1;32m<ipython-input-5-71e866469e97>\u001b[0m in \u001b[0;36m<module>\u001b[1;34m\u001b[0m\n\u001b[0;32m      1\u001b[0m \u001b[1;31m# resolução de integrais duplas x->y\u001b[0m\u001b[1;33m\u001b[0m\u001b[1;33m\u001b[0m\u001b[1;33m\u001b[0m\u001b[0m\n\u001b[0;32m      2\u001b[0m \u001b[1;31m# calculo do x1,x2, y1 e y2\u001b[0m\u001b[1;33m\u001b[0m\u001b[1;33m\u001b[0m\u001b[1;33m\u001b[0m\u001b[0m\n\u001b[1;32m----> 3\u001b[1;33m \u001b[0mf\u001b[0m \u001b[1;33m=\u001b[0m \u001b[0minput\u001b[0m\u001b[1;33m(\u001b[0m\u001b[1;34m'Digite a f(x,y): '\u001b[0m\u001b[1;33m)\u001b[0m\u001b[1;33m\u001b[0m\u001b[1;33m\u001b[0m\u001b[0m\n\u001b[0m\u001b[0;32m      4\u001b[0m \u001b[0mm1\u001b[0m \u001b[1;33m=\u001b[0m \u001b[0minput\u001b[0m\u001b[1;33m(\u001b[0m\u001b[1;34m'Digite o intervalo da integração em x1: '\u001b[0m\u001b[1;33m)\u001b[0m\u001b[1;33m\u001b[0m\u001b[1;33m\u001b[0m\u001b[0m\n\u001b[0;32m      5\u001b[0m \u001b[0mm2\u001b[0m \u001b[1;33m=\u001b[0m \u001b[0minput\u001b[0m\u001b[1;33m(\u001b[0m\u001b[1;34m'Digite o intervalo da integração em x2: '\u001b[0m\u001b[1;33m)\u001b[0m\u001b[1;33m\u001b[0m\u001b[1;33m\u001b[0m\u001b[0m\n",
      "\u001b[1;32mC:\\ProgramData\\Anaconda3\\lib\\site-packages\\ipykernel\\kernelbase.py\u001b[0m in \u001b[0;36mraw_input\u001b[1;34m(self, prompt)\u001b[0m\n\u001b[0;32m    858\u001b[0m                 \u001b[1;34m\"raw_input was called, but this frontend does not support input requests.\"\u001b[0m\u001b[1;33m\u001b[0m\u001b[1;33m\u001b[0m\u001b[0m\n\u001b[0;32m    859\u001b[0m             )\n\u001b[1;32m--> 860\u001b[1;33m         return self._input_request(str(prompt),\n\u001b[0m\u001b[0;32m    861\u001b[0m             \u001b[0mself\u001b[0m\u001b[1;33m.\u001b[0m\u001b[0m_parent_ident\u001b[0m\u001b[1;33m,\u001b[0m\u001b[1;33m\u001b[0m\u001b[1;33m\u001b[0m\u001b[0m\n\u001b[0;32m    862\u001b[0m             \u001b[0mself\u001b[0m\u001b[1;33m.\u001b[0m\u001b[0m_parent_header\u001b[0m\u001b[1;33m,\u001b[0m\u001b[1;33m\u001b[0m\u001b[1;33m\u001b[0m\u001b[0m\n",
      "\u001b[1;32mC:\\ProgramData\\Anaconda3\\lib\\site-packages\\ipykernel\\kernelbase.py\u001b[0m in \u001b[0;36m_input_request\u001b[1;34m(self, prompt, ident, parent, password)\u001b[0m\n\u001b[0;32m    902\u001b[0m             \u001b[1;32mexcept\u001b[0m \u001b[0mKeyboardInterrupt\u001b[0m\u001b[1;33m:\u001b[0m\u001b[1;33m\u001b[0m\u001b[1;33m\u001b[0m\u001b[0m\n\u001b[0;32m    903\u001b[0m                 \u001b[1;31m# re-raise KeyboardInterrupt, to truncate traceback\u001b[0m\u001b[1;33m\u001b[0m\u001b[1;33m\u001b[0m\u001b[1;33m\u001b[0m\u001b[0m\n\u001b[1;32m--> 904\u001b[1;33m                 \u001b[1;32mraise\u001b[0m \u001b[0mKeyboardInterrupt\u001b[0m\u001b[1;33m(\u001b[0m\u001b[1;34m\"Interrupted by user\"\u001b[0m\u001b[1;33m)\u001b[0m \u001b[1;32mfrom\u001b[0m \u001b[1;32mNone\u001b[0m\u001b[1;33m\u001b[0m\u001b[1;33m\u001b[0m\u001b[0m\n\u001b[0m\u001b[0;32m    905\u001b[0m             \u001b[1;32mexcept\u001b[0m \u001b[0mException\u001b[0m \u001b[1;32mas\u001b[0m \u001b[0me\u001b[0m\u001b[1;33m:\u001b[0m\u001b[1;33m\u001b[0m\u001b[1;33m\u001b[0m\u001b[0m\n\u001b[0;32m    906\u001b[0m                 \u001b[0mself\u001b[0m\u001b[1;33m.\u001b[0m\u001b[0mlog\u001b[0m\u001b[1;33m.\u001b[0m\u001b[0mwarning\u001b[0m\u001b[1;33m(\u001b[0m\u001b[1;34m\"Invalid Message:\"\u001b[0m\u001b[1;33m,\u001b[0m \u001b[0mexc_info\u001b[0m\u001b[1;33m=\u001b[0m\u001b[1;32mTrue\u001b[0m\u001b[1;33m)\u001b[0m\u001b[1;33m\u001b[0m\u001b[1;33m\u001b[0m\u001b[0m\n",
      "\u001b[1;31mKeyboardInterrupt\u001b[0m: Interrupted by user"
     ]
    }
   ],
   "source": [
    "# resolução de integrais duplas x->y\n",
    "# calculo do x1,x2, y1 e y2\n",
    "f = input('Digite a f(x,y): ')\n",
    "m1 = input('Digite o intervalo da integração em x1: ')\n",
    "m2 = input('Digite o intervalo da integração em x2: ')\n",
    "n1 = input('digite o intervalo da integração em y1: ')\n",
    "n2 = input('digite o intervalo da integração em y2: ')\n",
    "inif = integrate(f,theta)\n",
    "print('integral em r: ',inif)\n",
    "inif1 = inif.subs(theta,n1)\n",
    "inif2 = inif.subs(theta,n2)\n",
    "print('subs r1: ',inif1)\n",
    "print('subs r2: ',inif2)\n",
    "inif = inif2-inif1\n",
    "inif = simplify(inif)\n",
    "print('intervalo n em theta: ',inif)\n",
    "fimf = integrate(inif,r)\n",
    "print('integral em theta:',fimf)\n",
    "fimf1 = fimf.subs(r,m1)\n",
    "fimf2 = fimf.subs(r,m2)\n",
    "print('subs y1: ',fimf1)\n",
    "print('subs y2: ',fimf2)\n",
    "Vcalc= fimf2-fimf1\n",
    "print('Valor Final:',Vcalc)"
   ]
  },
  {
   "cell_type": "code",
   "execution_count": null,
   "metadata": {},
   "outputs": [],
   "source": []
  }
 ],
 "metadata": {
  "kernelspec": {
   "display_name": "Python 3",
   "language": "python",
   "name": "python3"
  },
  "language_info": {
   "codemirror_mode": {
    "name": "ipython",
    "version": 3
   },
   "file_extension": ".py",
   "mimetype": "text/x-python",
   "name": "python",
   "nbconvert_exporter": "python",
   "pygments_lexer": "ipython3",
   "version": "3.8.3"
  }
 },
 "nbformat": 4,
 "nbformat_minor": 4
}
