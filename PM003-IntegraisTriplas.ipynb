{
 "cells": [
  {
   "cell_type": "code",
   "execution_count": 5,
   "metadata": {},
   "outputs": [],
   "source": [
    "import numpy as np\n",
    "import math\n",
    "from math import pi\n",
    "from math import sqrt\n",
    "from sympy import *\n",
    "x, y, z, r = symbols('x y z r')\n",
    "theta = symbols('theta')\n",
    "init_printing(use_unicode=True)"
   ]
  },
  {
   "cell_type": "code",
   "execution_count": 23,
   "metadata": {},
   "outputs": [
    {
     "name": "stdout",
     "output_type": "stream",
     "text": [
      "grau de integracao: 3\n",
      "f: 2*x -y\n",
      "ordem: x\n",
      "integral em x:  2*x -y\n",
      "Digite o intervalo da integração em x1: 0\n",
      "Digite o intervalo da integração em x2: y-z\n",
      "subs x1:  0\n",
      "subs x2:  -y*(y - z) + (y - z)**2\n",
      "valor:  z*(-y + z)\n",
      "ordem: y\n",
      "integral em y:  2*x*y - y**2/2\n",
      "Digite o intervalo da integração em y1: 0\n",
      "Digite o intervalo da integração em y2: z**2\n",
      "subs y1:  z**2\n",
      "subs y2:  z*(-z**2 + z)\n",
      "valor:  -z**3\n",
      "ordem: z\n",
      "integral em z:  z*(2*x*y - y**2/2)\n",
      "Digite o intervalo da integração em z1: 0\n",
      "Digite o intervalo da integração em z2: 2\n",
      "subs z1:  0\n",
      "subs z2:  -8\n",
      "valor:  -8\n"
     ]
    }
   ],
   "source": [
    "grau = int(input('grau de integracao: '))\n",
    "f = input('f: ')\n",
    "g=1\n",
    "while g <= grau:\n",
    "    o = input('ordem: ')\n",
    "    if o == 'x':\n",
    "        inif = integrate(f,x)\n",
    "        print('integral em x: ',f)\n",
    "        m1 = input('Digite o intervalo da integração em x1: ')\n",
    "        m2 = input('Digite o intervalo da integração em x2: ')\n",
    "        inif1 = inif.subs(x,m1)\n",
    "        inif2 = inif.subs(x,m2)\n",
    "        print('subs x1: ',inif1)\n",
    "        print('subs x2: ',inif2)\n",
    "        inif = inif2-inif1\n",
    "        inif = simplify(inif)\n",
    "    elif o == 'y':\n",
    "        f = integrate(f,y)\n",
    "        print('integral em y: ',f)\n",
    "        m1 = input('Digite o intervalo da integração em y1: ')\n",
    "        m2 = input('Digite o intervalo da integração em y2: ')\n",
    "        inif1 = inif.subs(y,m1)\n",
    "        inif2 = inif.subs(y,m2)\n",
    "        print('subs y1: ',inif1)\n",
    "        print('subs y2: ',inif2)\n",
    "        inif = inif2-inif1\n",
    "        inif = simplify(inif)\n",
    "    elif o == 'z':\n",
    "        f = integrate(f,z)\n",
    "        print('integral em z: ',f)\n",
    "        m1 = input('Digite o intervalo da integração em z1: ')\n",
    "        m2 = input('Digite o intervalo da integração em z2: ')\n",
    "        inif1 = inif.subs(z,m1)\n",
    "        inif2 = inif.subs(z,m2)\n",
    "        print('subs z1: ',inif1)\n",
    "        print('subs z2: ',inif2)\n",
    "        inif = inif2-inif1\n",
    "        inif = simplify(inif)\n",
    "    elif o == 'r':\n",
    "        f = integrate(f,r)\n",
    "        print('integral em r: ',f)\n",
    "        m1 = input('Digite o intervalo da integração em r1: ')\n",
    "        m2 = input('Digite o intervalo da integração em r2: ')\n",
    "        inif1 = inif.subs(r,m1)\n",
    "        inif2 = inif.subs(r,m2)\n",
    "        print('subs r1: ',inif1)\n",
    "        print('subs r2: ',inif2)\n",
    "        inif = inif2-inif1\n",
    "        inif = simplify(inif)\n",
    "    else:\n",
    "        f = integrate(f,theta)\n",
    "        print('integral em theta: ',f)\n",
    "        m1 = input('Digite o intervalo da integração em theta1: ')\n",
    "        m2 = input('Digite o intervalo da integração em theta2: ')\n",
    "        inif1 = inif.subs(theta,m1)\n",
    "        inif2 = inif.subs(theta,m2)\n",
    "        print('subs theta1: ',inif1)\n",
    "        print('subs theta2: ',inif2)\n",
    "        inif = inif2-inif1\n",
    "        inif = simplify(inif)\n",
    "    print('valor: ',inif)\n",
    "    g +=1"
   ]
  },
  {
   "cell_type": "code",
   "execution_count": null,
   "metadata": {},
   "outputs": [],
   "source": []
  }
 ],
 "metadata": {
  "kernelspec": {
   "display_name": "Python 3",
   "language": "python",
   "name": "python3"
  },
  "language_info": {
   "codemirror_mode": {
    "name": "ipython",
    "version": 3
   },
   "file_extension": ".py",
   "mimetype": "text/x-python",
   "name": "python",
   "nbconvert_exporter": "python",
   "pygments_lexer": "ipython3",
   "version": "3.8.3"
  }
 },
 "nbformat": 4,
 "nbformat_minor": 4
}
