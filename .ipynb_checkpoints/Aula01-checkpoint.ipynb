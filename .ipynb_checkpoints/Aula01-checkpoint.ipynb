{
 "cells": [
  {
   "cell_type": "code",
   "execution_count": 17,
   "metadata": {
    "colab": {},
    "colab_type": "code",
    "executionInfo": {
     "elapsed": 587,
     "status": "ok",
     "timestamp": 1600730348564,
     "user": {
      "displayName": "Priscila Berbert Rampazzo",
      "photoUrl": "https://lh3.googleusercontent.com/a-/AOh14GhZu5dXQuOgtbBUjuLj8TW6EBRXDl9b9wiXbeGDGA=s64",
      "userId": "12665599509693914140"
     },
     "user_tz": 180
    },
    "id": "B4f1dRaGtbuR"
   },
   "outputs": [],
   "source": [
    "%matplotlib inline\n",
    "import matplotlib.pyplot as plt\n",
    "import numpy as np\n",
    "from mpl_toolkits.mplot3d import Axes3D\n",
    "from matplotlib import cm "
   ]
  },
  {
   "cell_type": "code",
   "execution_count": 1,
   "metadata": {
    "colab": {
     "base_uri": "https://localhost:8080/",
     "height": 571
    },
    "colab_type": "code",
    "executionInfo": {
     "elapsed": 2000,
     "status": "ok",
     "timestamp": 1600731078284,
     "user": {
      "displayName": "Priscila Berbert Rampazzo",
      "photoUrl": "https://lh3.googleusercontent.com/a-/AOh14GhZu5dXQuOgtbBUjuLj8TW6EBRXDl9b9wiXbeGDGA=s64",
      "userId": "12665599509693914140"
     },
     "user_tz": 180
    },
    "id": "G6M5sXputniz",
    "outputId": "1e786618-4521-4734-bba4-86870a5b849a"
   },
   "outputs": [
    {
     "ename": "NameError",
     "evalue": "name 'np' is not defined",
     "output_type": "error",
     "traceback": [
      "\u001b[1;31m---------------------------------------------------------------------------\u001b[0m",
      "\u001b[1;31mNameError\u001b[0m                                 Traceback (most recent call last)",
      "\u001b[1;32m<ipython-input-1-0ed722e08e8b>\u001b[0m in \u001b[0;36m<module>\u001b[1;34m\u001b[0m\n\u001b[0;32m      1\u001b[0m \u001b[1;31m# gráficos de z = f(x,y)\u001b[0m\u001b[1;33m\u001b[0m\u001b[1;33m\u001b[0m\u001b[1;33m\u001b[0m\u001b[0m\n\u001b[1;32m----> 2\u001b[1;33m \u001b[0meixox\u001b[0m \u001b[1;33m=\u001b[0m \u001b[0mnp\u001b[0m\u001b[1;33m.\u001b[0m\u001b[0marange\u001b[0m\u001b[1;33m(\u001b[0m\u001b[1;33m-\u001b[0m\u001b[1;36m10\u001b[0m\u001b[1;33m,\u001b[0m \u001b[1;36m10.5\u001b[0m\u001b[1;33m,\u001b[0m \u001b[1;36m0.5\u001b[0m\u001b[1;33m)\u001b[0m  \u001b[1;31m# min, max, passo\u001b[0m\u001b[1;33m\u001b[0m\u001b[1;33m\u001b[0m\u001b[0m\n\u001b[0m\u001b[0;32m      3\u001b[0m \u001b[0meixoy\u001b[0m \u001b[1;33m=\u001b[0m \u001b[0mnp\u001b[0m\u001b[1;33m.\u001b[0m\u001b[0marange\u001b[0m\u001b[1;33m(\u001b[0m\u001b[1;33m-\u001b[0m\u001b[1;36m10\u001b[0m\u001b[1;33m,\u001b[0m \u001b[1;36m10.5\u001b[0m\u001b[1;33m,\u001b[0m \u001b[1;36m0.5\u001b[0m\u001b[1;33m)\u001b[0m  \u001b[1;31m# min, max, passo\u001b[0m\u001b[1;33m\u001b[0m\u001b[1;33m\u001b[0m\u001b[0m\n\u001b[0;32m      4\u001b[0m \u001b[1;33m\u001b[0m\u001b[0m\n\u001b[0;32m      5\u001b[0m \u001b[0mx\u001b[0m\u001b[1;33m,\u001b[0m \u001b[0my\u001b[0m \u001b[1;33m=\u001b[0m \u001b[0mnp\u001b[0m\u001b[1;33m.\u001b[0m\u001b[0mmeshgrid\u001b[0m\u001b[1;33m(\u001b[0m\u001b[0meixox\u001b[0m\u001b[1;33m,\u001b[0m \u001b[0meixoy\u001b[0m\u001b[1;33m)\u001b[0m  \u001b[1;31m# cria a grade (domínio)\u001b[0m\u001b[1;33m\u001b[0m\u001b[1;33m\u001b[0m\u001b[0m\n",
      "\u001b[1;31mNameError\u001b[0m: name 'np' is not defined"
     ]
    }
   ],
   "source": [
    "# gráficos de z = f(x,y)\n",
    "eixox = np.arange(-10, 10.5, 0.5)  # min, max, passo\n",
    "eixoy = np.arange(-10, 10.5, 0.5)  # min, max, passo\n",
    "\n",
    "x, y = np.meshgrid(eixox, eixoy)  # cria a grade (domínio)\n",
    "z = 25 - x**2 - y**2\n",
    "\n",
    "fig1 = plt.figure(figsize=(4,4))          # cria o objeto figura\n",
    "ax1 = Axes3D(fig1)                         # cria eixos 3d para a figura\n",
    "ax1.plot_surface(x, y, z, rstride=1, cstride=1, cmap=cm.viridis)  # estabelece ordem dos eixos\n",
    "plt.show()\n",
    "\n",
    "# curvas de nível\n",
    "fig2, ax2 = plt.subplots(figsize=(4,4))\n",
    "ax2.contour(x,y,z,50) # 50 curvas de nível\n",
    "plt.show()"
   ]
  },
  {
   "cell_type": "code",
   "execution_count": 2,
   "metadata": {
    "colab": {
     "base_uri": "https://localhost:8080/",
     "height": 567
    },
    "colab_type": "code",
    "executionInfo": {
     "elapsed": 1780,
     "status": "ok",
     "timestamp": 1600731305491,
     "user": {
      "displayName": "Priscila Berbert Rampazzo",
      "photoUrl": "https://lh3.googleusercontent.com/a-/AOh14GhZu5dXQuOgtbBUjuLj8TW6EBRXDl9b9wiXbeGDGA=s64",
      "userId": "12665599509693914140"
     },
     "user_tz": 180
    },
    "id": "XeIjQz7EwcfV",
    "outputId": "cfda2aef-6067-4d62-d769-1ac597e3a5a4"
   },
   "outputs": [
    {
     "ename": "NameError",
     "evalue": "name 'np' is not defined",
     "output_type": "error",
     "traceback": [
      "\u001b[1;31m---------------------------------------------------------------------------\u001b[0m",
      "\u001b[1;31mNameError\u001b[0m                                 Traceback (most recent call last)",
      "\u001b[1;32m<ipython-input-2-5938af61625b>\u001b[0m in \u001b[0;36m<module>\u001b[1;34m\u001b[0m\n\u001b[0;32m      2\u001b[0m \u001b[1;31m# eixox = np.arange(-10, 10, 0.5)  # não! cuidado, descontínua em (0,0)\u001b[0m\u001b[1;33m\u001b[0m\u001b[1;33m\u001b[0m\u001b[1;33m\u001b[0m\u001b[0m\n\u001b[0;32m      3\u001b[0m \u001b[1;31m# eixoy = np.arange(-10, 10, 0.5)  # não! cuidado, descontínua em (0,0)\u001b[0m\u001b[1;33m\u001b[0m\u001b[1;33m\u001b[0m\u001b[1;33m\u001b[0m\u001b[0m\n\u001b[1;32m----> 4\u001b[1;33m \u001b[0mx1\u001b[0m \u001b[1;33m=\u001b[0m \u001b[0mnp\u001b[0m\u001b[1;33m.\u001b[0m\u001b[0marange\u001b[0m\u001b[1;33m(\u001b[0m\u001b[1;33m-\u001b[0m\u001b[1;36m10\u001b[0m\u001b[1;33m,\u001b[0m \u001b[1;33m-\u001b[0m\u001b[1;36m0.5\u001b[0m\u001b[1;33m,\u001b[0m \u001b[1;36m0.5\u001b[0m\u001b[1;33m)\u001b[0m \u001b[1;31m# -10 até -0.5\u001b[0m\u001b[1;33m\u001b[0m\u001b[1;33m\u001b[0m\u001b[0m\n\u001b[0m\u001b[0;32m      5\u001b[0m \u001b[0mx2\u001b[0m \u001b[1;33m=\u001b[0m \u001b[0mnp\u001b[0m\u001b[1;33m.\u001b[0m\u001b[0marange\u001b[0m\u001b[1;33m(\u001b[0m\u001b[1;36m0.5\u001b[0m\u001b[1;33m,\u001b[0m \u001b[1;36m10\u001b[0m\u001b[1;33m,\u001b[0m \u001b[1;36m0.5\u001b[0m\u001b[1;33m)\u001b[0m   \u001b[1;31m# 0.5 até 10\u001b[0m\u001b[1;33m\u001b[0m\u001b[1;33m\u001b[0m\u001b[0m\n\u001b[0;32m      6\u001b[0m \u001b[0meixox\u001b[0m \u001b[1;33m=\u001b[0m \u001b[0mnp\u001b[0m\u001b[1;33m.\u001b[0m\u001b[0mappend\u001b[0m\u001b[1;33m(\u001b[0m\u001b[0mx1\u001b[0m\u001b[1;33m,\u001b[0m \u001b[0mx2\u001b[0m\u001b[1;33m)\u001b[0m\u001b[1;33m\u001b[0m\u001b[1;33m\u001b[0m\u001b[0m\n",
      "\u001b[1;31mNameError\u001b[0m: name 'np' is not defined"
     ]
    }
   ],
   "source": [
    "# gráficos de z = f(x,y) com descontinuidades\n",
    "# eixox = np.arange(-10, 10, 0.5)  # não! cuidado, descontínua em (0,0)\n",
    "# eixoy = np.arange(-10, 10, 0.5)  # não! cuidado, descontínua em (0,0)\n",
    "x1 = np.arange(-10, -0.5, 0.5) # -10 até -0.5 \n",
    "x2 = np.arange(0.5, 10, 0.5)   # 0.5 até 10\n",
    "eixox = np.append(x1, x2)\n",
    "y1 = np.arange(-10, -0.5, 0.5)   # -10 até -0.5  \n",
    "y2 = np.arange(0.5, 10, 0.5)     # 0.5 até 10\n",
    "eixoy = np.append(y1, y2)\n",
    "x, y = np.meshgrid(eixox, eixoy)  # cria a grade (domínio)\n",
    "z = (x**2 - y**2)/(x**2 + y**2)    # z = f(x,y)\n",
    "\n",
    "fig1 = plt.figure(figsize=(4,4))          # cria o objeto figura\n",
    "ax1 = Axes3D(fig1)                         # cria eixos 3d para a figura\n",
    "ax1.plot_surface(x, y, z, rstride=1, cstride=1, cmap=cm.viridis)  # estabelece ordem dos eixos\n",
    "plt.show()\n",
    "\n",
    "# curvas de nível\n",
    "fig2, ax2 = plt.subplots(figsize=(4,4))\n",
    "ax2.contour(x,y,z,50) # 50 curvas de nível\n",
    "ax2.plot([0],[0], \"ro\")\n",
    "plt.show()"
   ]
  },
  {
   "cell_type": "code",
   "execution_count": null,
   "metadata": {},
   "outputs": [],
   "source": []
  }
 ],
 "metadata": {
  "colab": {
   "collapsed_sections": [],
   "name": "Aula01.ipynb",
   "provenance": []
  },
  "kernelspec": {
   "display_name": "Python 3",
   "language": "python",
   "name": "python3"
  },
  "language_info": {
   "codemirror_mode": {
    "name": "ipython",
    "version": 3
   },
   "file_extension": ".py",
   "mimetype": "text/x-python",
   "name": "python",
   "nbconvert_exporter": "python",
   "pygments_lexer": "ipython3",
   "version": "3.8.3"
  }
 },
 "nbformat": 4,
 "nbformat_minor": 1
}
