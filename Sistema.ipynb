{
 "cells": [
  {
   "cell_type": "code",
   "execution_count": 1,
   "metadata": {},
   "outputs": [
    {
     "name": "stdout",
     "output_type": "stream",
     "text": [
      "P10 =  [-0.75043403 -1.98960145  5.00695648]\n",
      "P11 =  [-2.84997252  3.36169466  0.45945143]\n"
     ]
    }
   ],
   "source": [
    "import numpy as np\n",
    "from scipy.optimize import fsolve\n",
    "\n",
    "def sistema (variaveis):  # definição do sistema\n",
    "    (x, y, L) = variaveis\n",
    "    eq1 = 2*(x+2) - L*2*(x+1)\n",
    "    eq2 = 6*(y-3) - L*2*(y-1)\n",
    "    eq3 = (x+1)**2+(y-1)**2 - 9\n",
    "    return [eq1, eq2, eq3]\n",
    "\n",
    "s0 = np.array([-1,-2,0])  # solução inicial 1\n",
    "s = fsolve(sistema, s0)\n",
    "print(\"P10 = \", s)\n",
    "\n",
    "s0 = np.array([-3,3,0])   # solução inicial 2\n",
    "s = fsolve(sistema, s0)\n",
    "print(\"P11 = \", s)"
   ]
  },
  {
   "cell_type": "code",
   "execution_count": null,
   "metadata": {},
   "outputs": [],
   "source": []
  }
 ],
 "metadata": {
  "kernelspec": {
   "display_name": "Python 3",
   "language": "python",
   "name": "python3"
  },
  "language_info": {
   "codemirror_mode": {
    "name": "ipython",
    "version": 3
   },
   "file_extension": ".py",
   "mimetype": "text/x-python",
   "name": "python",
   "nbconvert_exporter": "python",
   "pygments_lexer": "ipython3",
   "version": "3.8.3"
  }
 },
 "nbformat": 4,
 "nbformat_minor": 4
}
