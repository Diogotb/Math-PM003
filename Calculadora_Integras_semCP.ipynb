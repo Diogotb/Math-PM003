{
 "cells": [
  {
   "cell_type": "code",
   "execution_count": 1,
   "metadata": {},
   "outputs": [],
   "source": [
    "import numpy as np\n",
    "import math\n",
    "from math import pi\n",
    "from math import e\n",
    "from math import sqrt\n",
    "from sympy import *\n",
    "x, y, z, r = symbols('x y z r')\n",
    "theta = symbols('theta')\n",
    "init_printing(use_unicode=True)"
   ]
  },
  {
   "cell_type": "code",
   "execution_count": 31,
   "metadata": {
    "scrolled": false
   },
   "outputs": [
    {
     "name": "stdout",
     "output_type": "stream",
     "text": [
      "grau de integracao: 2\n",
      "f: sqrt(15)\n",
      "Resolver por CP: 1-sim 2-não2\n",
      "ordem: x\n"
     ]
    },
    {
     "ename": "ValueError",
     "evalue": "Invalid limits given: (r*cos(theta),)",
     "output_type": "error",
     "traceback": [
      "\u001b[1;31m---------------------------------------------------------------------------\u001b[0m",
      "\u001b[1;31mValueError\u001b[0m                                Traceback (most recent call last)",
      "\u001b[1;32m<ipython-input-31-ab9735d6468b>\u001b[0m in \u001b[0;36m<module>\u001b[1;34m\u001b[0m\n\u001b[0;32m     13\u001b[0m \u001b[1;33m\u001b[0m\u001b[0m\n\u001b[0;32m     14\u001b[0m     \u001b[1;32mif\u001b[0m \u001b[0mo\u001b[0m \u001b[1;33m==\u001b[0m \u001b[1;34m'x'\u001b[0m\u001b[1;33m:\u001b[0m\u001b[1;33m\u001b[0m\u001b[1;33m\u001b[0m\u001b[0m\n\u001b[1;32m---> 15\u001b[1;33m         \u001b[0minif\u001b[0m \u001b[1;33m=\u001b[0m \u001b[0mintegrate\u001b[0m\u001b[1;33m(\u001b[0m\u001b[0mf\u001b[0m\u001b[1;33m,\u001b[0m\u001b[0mx\u001b[0m\u001b[1;33m)\u001b[0m\u001b[1;33m\u001b[0m\u001b[1;33m\u001b[0m\u001b[0m\n\u001b[0m\u001b[0;32m     16\u001b[0m         \u001b[0mprint\u001b[0m\u001b[1;33m(\u001b[0m\u001b[1;34m'integral em x: '\u001b[0m\u001b[1;33m,\u001b[0m\u001b[0minif\u001b[0m\u001b[1;33m)\u001b[0m\u001b[1;33m\u001b[0m\u001b[1;33m\u001b[0m\u001b[0m\n\u001b[0;32m     17\u001b[0m         \u001b[0mm1\u001b[0m \u001b[1;33m=\u001b[0m \u001b[0minput\u001b[0m\u001b[1;33m(\u001b[0m\u001b[1;34m'Digite o intervalo da integração em x1: '\u001b[0m\u001b[1;33m)\u001b[0m\u001b[1;33m\u001b[0m\u001b[1;33m\u001b[0m\u001b[0m\n",
      "\u001b[1;32mC:\\ProgramData\\Anaconda3\\lib\\site-packages\\sympy\\integrals\\integrals.py\u001b[0m in \u001b[0;36mintegrate\u001b[1;34m(*args, **kwargs)\u001b[0m\n\u001b[0;32m   1540\u001b[0m         \u001b[1;34m'manual'\u001b[0m\u001b[1;33m:\u001b[0m \u001b[0mkwargs\u001b[0m\u001b[1;33m.\u001b[0m\u001b[0mpop\u001b[0m\u001b[1;33m(\u001b[0m\u001b[1;34m'manual'\u001b[0m\u001b[1;33m,\u001b[0m \u001b[1;32mNone\u001b[0m\u001b[1;33m)\u001b[0m\u001b[1;33m\u001b[0m\u001b[1;33m\u001b[0m\u001b[0m\n\u001b[0;32m   1541\u001b[0m         }\n\u001b[1;32m-> 1542\u001b[1;33m     \u001b[0mintegral\u001b[0m \u001b[1;33m=\u001b[0m \u001b[0mIntegral\u001b[0m\u001b[1;33m(\u001b[0m\u001b[1;33m*\u001b[0m\u001b[0margs\u001b[0m\u001b[1;33m,\u001b[0m \u001b[1;33m**\u001b[0m\u001b[0mkwargs\u001b[0m\u001b[1;33m)\u001b[0m\u001b[1;33m\u001b[0m\u001b[1;33m\u001b[0m\u001b[0m\n\u001b[0m\u001b[0;32m   1543\u001b[0m \u001b[1;33m\u001b[0m\u001b[0m\n\u001b[0;32m   1544\u001b[0m     \u001b[1;32mif\u001b[0m \u001b[0misinstance\u001b[0m\u001b[1;33m(\u001b[0m\u001b[0mintegral\u001b[0m\u001b[1;33m,\u001b[0m \u001b[0mIntegral\u001b[0m\u001b[1;33m)\u001b[0m\u001b[1;33m:\u001b[0m\u001b[1;33m\u001b[0m\u001b[1;33m\u001b[0m\u001b[0m\n",
      "\u001b[1;32mC:\\ProgramData\\Anaconda3\\lib\\site-packages\\sympy\\integrals\\integrals.py\u001b[0m in \u001b[0;36m__new__\u001b[1;34m(cls, function, *symbols, **assumptions)\u001b[0m\n\u001b[0;32m     85\u001b[0m                 useinstead=\"the as_expr or integrate methods of Poly\").warn()\n\u001b[0;32m     86\u001b[0m \u001b[1;33m\u001b[0m\u001b[0m\n\u001b[1;32m---> 87\u001b[1;33m         \u001b[0mobj\u001b[0m \u001b[1;33m=\u001b[0m \u001b[0mAddWithLimits\u001b[0m\u001b[1;33m.\u001b[0m\u001b[0m__new__\u001b[0m\u001b[1;33m(\u001b[0m\u001b[0mcls\u001b[0m\u001b[1;33m,\u001b[0m \u001b[0mfunction\u001b[0m\u001b[1;33m,\u001b[0m \u001b[1;33m*\u001b[0m\u001b[0msymbols\u001b[0m\u001b[1;33m,\u001b[0m \u001b[1;33m**\u001b[0m\u001b[0massumptions\u001b[0m\u001b[1;33m)\u001b[0m\u001b[1;33m\u001b[0m\u001b[1;33m\u001b[0m\u001b[0m\n\u001b[0m\u001b[0;32m     88\u001b[0m         \u001b[1;32mreturn\u001b[0m \u001b[0mobj\u001b[0m\u001b[1;33m\u001b[0m\u001b[1;33m\u001b[0m\u001b[0m\n\u001b[0;32m     89\u001b[0m \u001b[1;33m\u001b[0m\u001b[0m\n",
      "\u001b[1;32mC:\\ProgramData\\Anaconda3\\lib\\site-packages\\sympy\\concrete\\expr_with_limits.py\u001b[0m in \u001b[0;36m__new__\u001b[1;34m(cls, function, *symbols, **assumptions)\u001b[0m\n\u001b[0;32m    492\u001b[0m \u001b[1;33m\u001b[0m\u001b[0m\n\u001b[0;32m    493\u001b[0m     \u001b[1;32mdef\u001b[0m \u001b[0m__new__\u001b[0m\u001b[1;33m(\u001b[0m\u001b[0mcls\u001b[0m\u001b[1;33m,\u001b[0m \u001b[0mfunction\u001b[0m\u001b[1;33m,\u001b[0m \u001b[1;33m*\u001b[0m\u001b[0msymbols\u001b[0m\u001b[1;33m,\u001b[0m \u001b[1;33m**\u001b[0m\u001b[0massumptions\u001b[0m\u001b[1;33m)\u001b[0m\u001b[1;33m:\u001b[0m\u001b[1;33m\u001b[0m\u001b[1;33m\u001b[0m\u001b[0m\n\u001b[1;32m--> 494\u001b[1;33m         \u001b[0mpre\u001b[0m \u001b[1;33m=\u001b[0m \u001b[0m_common_new\u001b[0m\u001b[1;33m(\u001b[0m\u001b[0mcls\u001b[0m\u001b[1;33m,\u001b[0m \u001b[0mfunction\u001b[0m\u001b[1;33m,\u001b[0m \u001b[1;33m*\u001b[0m\u001b[0msymbols\u001b[0m\u001b[1;33m,\u001b[0m \u001b[1;33m**\u001b[0m\u001b[0massumptions\u001b[0m\u001b[1;33m)\u001b[0m\u001b[1;33m\u001b[0m\u001b[1;33m\u001b[0m\u001b[0m\n\u001b[0m\u001b[0;32m    495\u001b[0m         \u001b[1;32mif\u001b[0m \u001b[0mtype\u001b[0m\u001b[1;33m(\u001b[0m\u001b[0mpre\u001b[0m\u001b[1;33m)\u001b[0m \u001b[1;32mis\u001b[0m \u001b[0mtuple\u001b[0m\u001b[1;33m:\u001b[0m\u001b[1;33m\u001b[0m\u001b[1;33m\u001b[0m\u001b[0m\n\u001b[0;32m    496\u001b[0m             \u001b[0mfunction\u001b[0m\u001b[1;33m,\u001b[0m \u001b[0mlimits\u001b[0m\u001b[1;33m,\u001b[0m \u001b[0morientation\u001b[0m \u001b[1;33m=\u001b[0m \u001b[0mpre\u001b[0m\u001b[1;33m\u001b[0m\u001b[1;33m\u001b[0m\u001b[0m\n",
      "\u001b[1;32mC:\\ProgramData\\Anaconda3\\lib\\site-packages\\sympy\\concrete\\expr_with_limits.py\u001b[0m in \u001b[0;36m_common_new\u001b[1;34m(cls, function, *symbols, **assumptions)\u001b[0m\n\u001b[0;32m     46\u001b[0m \u001b[1;33m\u001b[0m\u001b[0m\n\u001b[0;32m     47\u001b[0m     \u001b[1;32mif\u001b[0m \u001b[0msymbols\u001b[0m\u001b[1;33m:\u001b[0m\u001b[1;33m\u001b[0m\u001b[1;33m\u001b[0m\u001b[0m\n\u001b[1;32m---> 48\u001b[1;33m         \u001b[0mlimits\u001b[0m\u001b[1;33m,\u001b[0m \u001b[0morientation\u001b[0m \u001b[1;33m=\u001b[0m \u001b[0m_process_limits\u001b[0m\u001b[1;33m(\u001b[0m\u001b[1;33m*\u001b[0m\u001b[0msymbols\u001b[0m\u001b[1;33m)\u001b[0m\u001b[1;33m\u001b[0m\u001b[1;33m\u001b[0m\u001b[0m\n\u001b[0m\u001b[0;32m     49\u001b[0m         \u001b[1;32mfor\u001b[0m \u001b[0mi\u001b[0m\u001b[1;33m,\u001b[0m \u001b[0mli\u001b[0m \u001b[1;32min\u001b[0m \u001b[0menumerate\u001b[0m\u001b[1;33m(\u001b[0m\u001b[0mlimits\u001b[0m\u001b[1;33m)\u001b[0m\u001b[1;33m:\u001b[0m\u001b[1;33m\u001b[0m\u001b[1;33m\u001b[0m\u001b[0m\n\u001b[0;32m     50\u001b[0m             \u001b[1;32mif\u001b[0m \u001b[0mlen\u001b[0m\u001b[1;33m(\u001b[0m\u001b[0mli\u001b[0m\u001b[1;33m)\u001b[0m \u001b[1;33m==\u001b[0m \u001b[1;36m4\u001b[0m\u001b[1;33m:\u001b[0m\u001b[1;33m\u001b[0m\u001b[1;33m\u001b[0m\u001b[0m\n",
      "\u001b[1;32mC:\\ProgramData\\Anaconda3\\lib\\site-packages\\sympy\\concrete\\expr_with_limits.py\u001b[0m in \u001b[0;36m_process_limits\u001b[1;34m(*symbols)\u001b[0m\n\u001b[0;32m    154\u001b[0m                         \u001b[1;32mcontinue\u001b[0m\u001b[1;33m\u001b[0m\u001b[1;33m\u001b[0m\u001b[0m\n\u001b[0;32m    155\u001b[0m \u001b[1;33m\u001b[0m\u001b[0m\n\u001b[1;32m--> 156\u001b[1;33m         \u001b[1;32mraise\u001b[0m \u001b[0mValueError\u001b[0m\u001b[1;33m(\u001b[0m\u001b[1;34m'Invalid limits given: %s'\u001b[0m \u001b[1;33m%\u001b[0m \u001b[0mstr\u001b[0m\u001b[1;33m(\u001b[0m\u001b[0msymbols\u001b[0m\u001b[1;33m)\u001b[0m\u001b[1;33m)\u001b[0m\u001b[1;33m\u001b[0m\u001b[1;33m\u001b[0m\u001b[0m\n\u001b[0m\u001b[0;32m    157\u001b[0m \u001b[1;33m\u001b[0m\u001b[0m\n\u001b[0;32m    158\u001b[0m     \u001b[1;32mreturn\u001b[0m \u001b[0mlimits\u001b[0m\u001b[1;33m,\u001b[0m \u001b[0morientation\u001b[0m\u001b[1;33m\u001b[0m\u001b[1;33m\u001b[0m\u001b[0m\n",
      "\u001b[1;31mValueError\u001b[0m: Invalid limits given: (r*cos(theta),)"
     ]
    }
   ],
   "source": [
    "grau = int(input('grau de integracao: '))\n",
    "f = input('f: ')\n",
    "g=1\n",
    "while g <= grau:\n",
    "    o = input('ordem: ')\n",
    "    \n",
    "    if o == 'x':\n",
    "        inif = integrate(f,x)\n",
    "        print('integral em x: ',inif)\n",
    "        m1 = input('Digite o intervalo da integração em x1: ')\n",
    "        inif1 = inif.subs(x,m1)\n",
    "        inif = simplify(inif)\n",
    "        print('subs x1: ',inif1)\n",
    "        m2 = input('Digite o intervalo da integração em x2: ')\n",
    "        inif2 = inif.subs(x,m2)\n",
    "        inif = simplify(inif)\n",
    "        print('subs x2: ',inif2)\n",
    "        inif = inif2-inif1\n",
    "    elif o == 'y':\n",
    "        inif = integrate(f,y)\n",
    "        print('integral em y: ',inif)\n",
    "        m1 = input('Digite o intervalo da integração em y1: ')\n",
    "        inif1 = inif.subs(y,m1)\n",
    "        print('subs y1: ',inif1)\n",
    "        m2 = input('Digite o intervalo da integração em y2: ')\n",
    "        inif2 = inif.subs(y,m2)\n",
    "        inif = simplify(inif)\n",
    "        print('subs y2: ',inif2)\n",
    "        inif = inif2-inif1\n",
    "    elif o == 'z':\n",
    "        inif = integrate(f,z)\n",
    "        print('integral em z: ',inif)\n",
    "        m1 = input('Digite o intervalo da integração em z1: ')\n",
    "        inif1 = inif.subs(z,m1)\n",
    "        inif = simplify(inif)\n",
    "        print('subs z1: ',inif1)\n",
    "        m2 = input('Digite o intervalo da integração em z2: ')\n",
    "        inif2 = inif.subs(z,m2)\n",
    "        inif = simplify(inif)\n",
    "        print('subs z2: ',inif2)\n",
    "        inif = inif2-inif1\n",
    "    elif o == 'r':\n",
    "        inif = integrate(f,r)\n",
    "        print('integral em r: ',inif)\n",
    "        m1 = input('Digite o intervalo da integração em r1: ')\n",
    "        inif1 = inif.subs(r,m1)\n",
    "        inif = simplify(inif)\n",
    "        print('subs r1: ',inif1)\n",
    "        m2 = input('Digite o intervalo da integração em r2: ')\n",
    "        inif2 = inif.subs(r,m2)\n",
    "        inif = simplify(inif)\n",
    "        print('subs r2: ',inif2)\n",
    "        inif = inif2-inif1\n",
    "    else:\n",
    "        inif = integrate(f,theta)\n",
    "        print('integral em theta: ',inif)\n",
    "        m1 = input('Digite o intervalo da integração em theta1: ')\n",
    "        inif1 = inif.subs(theta,m1)\n",
    "        inif = simplify(inif)\n",
    "        print('subs theta1: ',inif1)\n",
    "        m2 = input('Digite o intervalo da integração em theta2: ')\n",
    "        inif2 = inif.subs(theta,m2)\n",
    "        inif = simplify(inif)\n",
    "        print('subs theta2: ',inif2)\n",
    "        inif = inif2-inif1\n",
    "    print('valor: ',inif)\n",
    "    inif = simplify(inif)\n",
    "    print('valor simplificado: ',inif)\n",
    "    f = inif\n",
    "    g +=1"
   ]
  },
  {
   "cell_type": "code",
   "execution_count": null,
   "metadata": {},
   "outputs": [],
   "source": []
  }
 ],
 "metadata": {
  "kernelspec": {
   "display_name": "Python 3",
   "language": "python",
   "name": "python3"
  },
  "language_info": {
   "codemirror_mode": {
    "name": "ipython",
    "version": 3
   },
   "file_extension": ".py",
   "mimetype": "text/x-python",
   "name": "python",
   "nbconvert_exporter": "python",
   "pygments_lexer": "ipython3",
   "version": "3.8.3"
  }
 },
 "nbformat": 4,
 "nbformat_minor": 4
}
