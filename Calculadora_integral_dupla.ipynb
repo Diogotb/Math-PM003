{
 "cells": [
  {
   "cell_type": "code",
   "execution_count": 9,
   "metadata": {},
   "outputs": [],
   "source": [
    "%matplotlib notebook\n",
    "import matplotlib.pyplot as plt\n",
    "import numpy as np\n",
    "from mpl_toolkits.mplot3d import Axes3D\n",
    "from matplotlib import cm \n",
    "import math\n",
    "from math import pi\n",
    "from sympy import *\n",
    "x, y, z = symbols('x y z')\n",
    "init_printing(use_unicode=True)\n",
    "from scipy.optimize import fsolve"
   ]
  },
  {
   "cell_type": "code",
   "execution_count": 20,
   "metadata": {},
   "outputs": [
    {
     "name": "stdout",
     "output_type": "stream",
     "text": [
      "Digite a f(x,y): 5-x\n",
      "Digite o intervalo da integração em x: 5\n",
      "digite o intervalo da integração em y: 3\n",
      "5-x\n",
      "5\n",
      "3\n",
      "integral em x:  -x**2/2 + 5*x\n",
      "intervalo m em x:  25/2\n",
      "integral em y: 25*y/2\n",
      "Valor Final: 75/2\n"
     ]
    }
   ],
   "source": [
    "# resolução de integrais duplas x->y\n",
    "# calculo do intervalo\n",
    "f = input('Digite a f(x,y): ')\n",
    "m = input('Digite o intervalo da integração em x: ')\n",
    "n = input('digite o intervalo da integração em y: ')\n",
    "print(f)\n",
    "print(m)\n",
    "print(n)\n",
    "\n",
    "inif = integrate(f,x)\n",
    "print('integral em x: ',inif)\n",
    "inif = inif.subs(x,m)\n",
    "print('intervalo m em x: ',inif)\n",
    "fimf = integrate(inif,y)\n",
    "print('integral em y:',fimf)\n",
    "Vcalc= fimf.subs(y,n)\n",
    "print('Valor Final:',Vcalc)\n"
   ]
  },
  {
   "cell_type": "code",
   "execution_count": 21,
   "metadata": {},
   "outputs": [
    {
     "name": "stdout",
     "output_type": "stream",
     "text": [
      "Digite a f(x,y): 5-x\n",
      "Digite o intervalo da integração em x: 5\n",
      "digite o intervalo da integração em y: 3\n",
      "integral em y:  y*(5 - x)\n",
      "interalo n em y:  15 - 3*x\n",
      "integral em x: -3*x**2/2 + 15*x\n",
      "Valor Final: 75/2\n"
     ]
    }
   ],
   "source": [
    "# resolução de integrais duplas y->x\n",
    "# calculo do intervalo\n",
    "f = input('Digite a f(x,y): ')\n",
    "m = input('Digite o intervalo da integração em x: ')\n",
    "n = input('digite o intervalo da integração em y: ')\n",
    "\n",
    "inif = integrate(f,y)\n",
    "print('integral em y: ',inif)\n",
    "inif = inif.subs(y,n)\n",
    "inif = simplify(inif)\n",
    "print('interalo n em y: ',inif)\n",
    "fimf = integrate(inif,x)\n",
    "print('integral em x:',fimf)\n",
    "Vcalc= fimf.subs(x,m)\n",
    "print('Valor Final:',Vcalc)"
   ]
  },
  {
   "cell_type": "code",
   "execution_count": 22,
   "metadata": {
    "scrolled": false
   },
   "outputs": [
    {
     "name": "stdout",
     "output_type": "stream",
     "text": [
      "Digite a f(x,y): 4-2*y\n",
      "Digite o intervalo da integração em x1: 0\n",
      "Digite o intervalo da integração em x2: 1\n",
      "digite o intervalo da integração em y: 0\n",
      "digite o intervalo da integração em y: 1\n",
      "integral em x:  x*(4 - 2*y)\n",
      "subs x1:  0\n",
      "subs x2:  4 - 2*y\n",
      "intervalo m em x:  4 - 2*y\n",
      "integral em y: -y**2 + 4*y\n",
      "subs y1:  0\n",
      "subsy2:  3\n",
      "Valor Final: 3\n"
     ]
    }
   ],
   "source": [
    "# resolução de integrais duplas x->y\n",
    "# calculo do x1,x2, y1 e y2\n",
    "f = input('Digite a f(x,y): ')\n",
    "m1 = input('Digite o intervalo da integração em x1: ')\n",
    "m2 = input('Digite o intervalo da integração em x2: ')\n",
    "n1 = input('digite o intervalo da integração em y: ')\n",
    "n2 = input('digite o intervalo da integração em y: ')\n",
    "\n",
    "inif = integrate(f,x)\n",
    "print('integral em x: ',inif)\n",
    "inif1 = inif.subs(x,m1)\n",
    "inif2 = inif.subs(x,m2)\n",
    "print('subs x1: ',inif1)\n",
    "print('subs x2: ',inif2)\n",
    "inif = inif2-inif1\n",
    "print('intervalo m em x: ',inif)\n",
    "fimf = integrate(inif,y)\n",
    "print('integral em y:',fimf)\n",
    "fimf1 = fimf.subs(y,n1)\n",
    "fimf2 = fimf.subs(y,n2)\n",
    "print('subs y1: ',fimf1)\n",
    "print('subsy2: ',fimf2)\n",
    "Vcalc= fimf2-fimf1\n",
    "print('Valor Final:',Vcalc)\n"
   ]
  },
  {
   "cell_type": "code",
   "execution_count": 23,
   "metadata": {},
   "outputs": [
    {
     "name": "stdout",
     "output_type": "stream",
     "text": [
      "Digite a f(x,y): 4-2*y\n",
      "Digite o intervalo da integração em x1: 0\n",
      "Digite o intervalo da integração em x2: 1\n",
      "digite o intervalo da integração em y: 0\n",
      "digite o intervalo da integração em y: 1\n",
      "integral em y:  -y**2 + 4*y\n",
      "subs y1:  0\n",
      "subs y2:  3\n",
      "intervalo n em y:  3\n",
      "integral em x: 3*x\n",
      "subs x1:  0\n",
      "subs x2:  3\n",
      "Valor Final: 3\n"
     ]
    }
   ],
   "source": [
    "# resolução de integrais duplas y->x\n",
    "#calculo do y1,y2,x1 e x2\n",
    "f = input('Digite a f(x,y): ')\n",
    "m1 = input('Digite o intervalo da integração em x1: ')\n",
    "m2 = input('Digite o intervalo da integração em x2: ')\n",
    "n1 = input('digite o intervalo da integração em y: ')\n",
    "n2 = input('digite o intervalo da integração em y: ')\n",
    "\n",
    "inif = integrate(f,y)\n",
    "print('integral em y: ',inif)\n",
    "inif1 = inif.subs(y,n1)\n",
    "inif2 = inif.subs(y,n2)\n",
    "print('subs y1: ',inif1)\n",
    "print('subs y2: ',inif2)\n",
    "inif = inif2-inif1\n",
    "print('intervalo n em y: ',inif)\n",
    "inif = simplify(inif)\n",
    "fimf = integrate(inif,x)\n",
    "print('integral em x:',fimf)\n",
    "fimf1 = fimf.subs(x,m1)\n",
    "fimf2 = fimf.subs(x,m2)\n",
    "print('subs x1: ',fimf1)\n",
    "print('subs x2: ',fimf2)\n",
    "Vcalc= fimf2-fimf1\n",
    "print('Valor Final:',Vcalc)\n"
   ]
  },
  {
   "cell_type": "code",
   "execution_count": null,
   "metadata": {},
   "outputs": [],
   "source": []
  }
 ],
 "metadata": {
  "kernelspec": {
   "display_name": "Python 3",
   "language": "python",
   "name": "python3"
  }
 },
 "nbformat": 4,
 "nbformat_minor": 4
}
